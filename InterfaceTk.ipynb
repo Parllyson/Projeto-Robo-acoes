{
 "cells": [
  {
   "cell_type": "code",
   "execution_count": 1,
   "id": "37b6dbd4",
   "metadata": {},
   "outputs": [
    {
     "data": {
      "text/plain": [
       "<__main__.Application at 0x18fc187f0d0>"
      ]
     },
     "execution_count": 1,
     "metadata": {},
     "output_type": "execute_result"
    }
   ],
   "source": [
    "from tkinter import *\n",
    "import subprocess\n",
    "\n",
    "\n",
    "janela = Tk()\n",
    "\n",
    "## Criar classe função para botões\n",
    "\n",
    "\n",
    "# Criar classe\n",
    "class Application():\n",
    "    def __init__(self):\n",
    "        self.janela = janela\n",
    "        self.tela()\n",
    "        self.frames_da_tela()\n",
    "        self.criando_botoes()\n",
    "        janela.mainloop() \n",
    "    def tela(self):\n",
    "        #definir título\n",
    "        self.janela.title(\"Robô de Cotações\")\n",
    "        \n",
    "        # Definir cor de fundo\n",
    "        self.janela.configure(background= 'lightblue')\n",
    "        \n",
    "        # Definir tamanho da tela\n",
    "        self.janela.geometry('780x500')\n",
    "        \n",
    "        # Definir se a tela será responsiva\n",
    "        self.janela.resizable(False, False)\n",
    "        \n",
    "    def frames_da_tela(self):\n",
    "        # definir frames\n",
    "        \n",
    "        self.frame1 = Frame(self.janela)\n",
    "        self.frame1.place(relx=0.05, rely=0.1, relwidth=0.9, relheight=0.80)\n",
    "    \n",
    "    def criando_botoes(self):\n",
    "        #criando botão de Buscar Cotação\n",
    "        \n",
    "        self.bt_buscar = Button(self.frame1, text='Buscar Cotação', command=subprocess.call(\"RoboAçoes.ipynb\", shell=True), bd=4, bg='lightblue', font=('verdana', 7, 'bold'))\n",
    "        self.bt_buscar.place(relx=0.08, rely=0.1, relwidth=0.15, relheight=0.15)\n",
    "        \n",
    "        self.bt_abrir = Button(self.frame1, text='Abrir Arquivo', bd=4, bg='lightblue',  font=('verdana', 7, 'bold'))\n",
    "        self.bt_abrir.place(relx=0.77, rely=0.1, relwidth=0.15, relheight=0.15)\n",
    "        \n",
    "        self.bt_exit = Button(self.frame1, text='Obrigado por usar o Curioso o robô!! Clique aqui para sair ;)',\n",
    "                              command=lambda:[janela.destroy(), exit()], bd=4, bg='lightblue',\n",
    "                              font=('verdana', 8, 'bold'))\n",
    "        self.bt_exit.place(relx=0.15, rely=0.8, relwidth=0.70, relheight=0.15)\n",
    "        \n",
    "        \n",
    "Application()"
   ]
  },
  {
   "cell_type": "code",
   "execution_count": null,
   "id": "b9906050",
   "metadata": {},
   "outputs": [],
   "source": []
  }
 ],
 "metadata": {
  "kernelspec": {
   "display_name": "Python 3 (ipykernel)",
   "language": "python",
   "name": "python3"
  },
  "language_info": {
   "codemirror_mode": {
    "name": "ipython",
    "version": 3
   },
   "file_extension": ".py",
   "mimetype": "text/x-python",
   "name": "python",
   "nbconvert_exporter": "python",
   "pygments_lexer": "ipython3",
   "version": "3.9.12"
  }
 },
 "nbformat": 4,
 "nbformat_minor": 5
}
